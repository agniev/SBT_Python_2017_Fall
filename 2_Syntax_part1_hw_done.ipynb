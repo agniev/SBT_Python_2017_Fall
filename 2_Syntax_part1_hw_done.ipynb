{
 "cells": [
  {
   "cell_type": "markdown",
   "metadata": {},
   "source": [
    "# Базовая часть"
   ]
  },
  {
   "cell_type": "markdown",
   "metadata": {},
   "source": [
    "Рассмотрим задание 2 из лекции. При анализе отзывов на работу техподдержки вы считали массив из отзывов (для простоты отзыва приведено всего два, но могло быть и больше):"
   ]
  },
  {
   "cell_type": "code",
   "execution_count": 3,
   "metadata": {
    "collapsed": true
   },
   "outputs": [],
   "source": [
    "reviews = [\"\"\"Телефон абонента: +7 916 000 00 01\n",
    "Время: 10:34\n",
    "Дата: 20.05.2017\n",
    "Оценка: 1\n",
    "Длительность разговора (мин.): 0:32\n",
    "Комментарий: Общение с сотрудником вашей техподдержки мне не понравилось. Раньше всегда отвечала девушка с приятным голосом, а сегодня какой-то мужчина. Совсем никуда не годится, примите меры!!!\"\"\",\n",
    "\"\"\"Телефон абонента: +7 916 000 00 02\n",
    "Время: 9:20\n",
    "Дата: 21.05.2017\n",
    "Оценка: 5\n",
    "Длительность разговора (мин.): 25:07\n",
    "Комментарий: С моей проблемой мне помогли, большое спасибо!\"\"\"]"
   ]
  },
  {
   "cell_type": "markdown",
   "metadata": {},
   "source": [
    "Сформируйте на основе этого массива словарь my_base, в котором по ключу в виде строки с телефоном абонента будет храниться другой словарь. Внутренний словарь по ключам в виде названий полей отзыва должен хранить значение полей (в виде строк). Например, код ниже должен выдать True:"
   ]
  },
  {
   "cell_type": "markdown",
   "metadata": {
    "collapsed": true
   },
   "source": [
    "my_base['+7 916 000 00 01']['Дата'] == '20.05.2017'"
   ]
  },
  {
   "cell_type": "markdown",
   "metadata": {},
   "source": [
    "Обратите внимание, что вам могут немного мешать пробелы после знаков \":\""
   ]
  },
  {
   "cell_type": "code",
   "execution_count": 4,
   "metadata": {},
   "outputs": [
    {
     "name": "stdout",
     "output_type": "stream",
     "text": [
      "+7 916 000 00 02\n",
      "Оценка Время Комментарий Дата Длительность разговора (мин.)\n",
      "5 9:20 С моей проблемой мне помогли, большое спасибо! 21.05.2017 25:07\n",
      "\n",
      "+7 916 000 00 01\n",
      "Оценка Время Комментарий Дата Длительность разговора (мин.)\n",
      "5 9:20 С моей проблемой мне помогли, большое спасибо! 21.05.2017 25:07\n",
      "\n"
     ]
    }
   ],
   "source": [
    "my_base = {}\n",
    "for request in reviews:\n",
    "    got_phone = False\n",
    "    for line in request.split('\\n'):\n",
    "        if not got_phone:\n",
    "            splitted_line = line.split(': ')\n",
    "            phone = splitted_line[1]\n",
    "            my_base[phone]={}\n",
    "            got_phone = True\n",
    "        else:\n",
    "            splitted_line = line.split(': ')\n",
    "            my_base[phone][splitted_line[0]] = splitted_line[1]\n",
    "# Вывод на печать my_base:\n",
    "for key in my_base.keys():\n",
    "    print key\n",
    "    print \" \".join(my_base['+7 916 000 00 02'].keys())\n",
    "    print \" \".join(my_base['+7 916 000 00 02'].values())\n",
    "    print"
   ]
  },
  {
   "cell_type": "markdown",
   "metadata": {},
   "source": [
    "# Продвинутая часть"
   ]
  },
  {
   "cell_type": "markdown",
   "metadata": {},
   "source": [
    "Попробуйте выполнить предыдущее задание, но теперь обеспечив хранение полей из отзыва в словаре в тех типах данных, которые на ваш взгляд наиболее уместны. Подумайте, что делать с датой и временем. Возможно вам покажется полезным немного воспользоваться поисковиком или документацией к Python, а может быть вам хватит стандартных типов данных.\n",
    "Объясните свой выбор в комментариях к коду или markdown ячейках и продемонстрируйте, что поля имеют нужный тип."
   ]
  },
  {
   "cell_type": "code",
   "execution_count": 5,
   "metadata": {},
   "outputs": [
    {
     "name": "stdout",
     "output_type": "stream",
     "text": [
      "+79160000002\n",
      "Оценка: 5\n",
      "Время: 09:20:00\n",
      "Комментарий: С моей проблемой мне помогли, большое спасибо!\n",
      "Дата: 2017-05-21\n",
      "Длительность разговора: 00:25:07\n",
      "\n",
      "+79160000001\n",
      "Оценка: 1\n",
      "Время: 10:34:00\n",
      "Комментарий: Общение с сотрудником вашей техподдержки мне не понравилось. Раньше всегда отвечала девушка с приятным голосом, а сегодня какой-то мужчина. Совсем никуда не годится, примите меры!!!\n",
      "Дата: 2017-05-20\n",
      "Длительность разговора: 00:00:32\n",
      "\n"
     ]
    }
   ],
   "source": [
    "import datetime\n",
    "\n",
    "my_base = dict()\n",
    "for lines in [record.split('\\n') for record in reviews]:\n",
    "    b = [line.split(': ') for line in lines]\n",
    "    local_base = dict()\n",
    "    \n",
    "    call_time = [int(i) for i in b[1][1].split(':')]\n",
    "    local_base[b[1][0]] = datetime.time(call_time[0], call_time[1])\n",
    "    \n",
    "    call_date = [int(i) for i in b[2][1].split('.')]\n",
    "    local_base[b[2][0]] = datetime.date(call_date[2], call_date[1], call_date[0])\n",
    "    \n",
    "    local_base[b[3][0]] = int(b[3][1])\n",
    "    \n",
    "    call_duration = [int(i) for i in b[4][1].split(':')]\n",
    "    call_duration_title = b[4][0].split(' ')\n",
    "    local_base[call_duration_title[0] + ' ' + call_duration_title[1]] = datetime.time(0, call_duration[0], call_duration[1])\n",
    "    \n",
    "    local_base[b[5][0]] = b[5][1]\n",
    "      \n",
    "    my_base[''.join(b[0][1].split(' '))] = local_base\n",
    "    \n",
    "for key in my_base.keys():\n",
    "    print key\n",
    "    for k in my_base[key].keys():\n",
    "        print k + \": \" + str(my_base[key][k])\n",
    "    print "
   ]
  },
  {
   "cell_type": "markdown",
   "metadata": {},
   "source": [
    "# Сложная часть"
   ]
  },
  {
   "cell_type": "markdown",
   "metadata": {},
   "source": [
    "На лекции было рассказано про неизменяемые типы, в частности про tuple. Подумайте, можно ли \"сломать\" неизменяемость tuple? Как сделать tuple изменяемым? Можно ли будет его добавить в множество или использовать в качестве ключа в словаре?"
   ]
  },
  {
   "cell_type": "code",
   "execution_count": null,
   "metadata": {
    "collapsed": true
   },
   "outputs": [],
   "source": []
  },
  {
   "cell_type": "code",
   "execution_count": null,
   "metadata": {
    "collapsed": true
   },
   "outputs": [],
   "source": []
  }
 ],
 "metadata": {
  "anaconda-cloud": {},
  "kernelspec": {
   "display_name": "Python 2",
   "language": "python",
   "name": "python2"
  },
  "language_info": {
   "codemirror_mode": {
    "name": "ipython",
    "version": 2
   },
   "file_extension": ".py",
   "mimetype": "text/x-python",
   "name": "python",
   "nbconvert_exporter": "python",
   "pygments_lexer": "ipython2",
   "version": "2.7.13"
  }
 },
 "nbformat": 4,
 "nbformat_minor": 1
}
